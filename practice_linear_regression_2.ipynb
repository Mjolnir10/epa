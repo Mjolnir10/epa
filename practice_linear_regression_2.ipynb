{
  "cells": [
    {
      "cell_type": "markdown",
      "metadata": {
        "id": "view-in-github",
        "colab_type": "text"
      },
      "source": [
        "<a href=\"https://colab.research.google.com/github/Mjolnir10/epa/blob/main/practice_linear_regression_2.ipynb\" target=\"_parent\"><img src=\"https://colab.research.google.com/assets/colab-badge.svg\" alt=\"Open In Colab\"/></a>"
      ]
    },
    {
      "cell_type": "code",
      "execution_count": null,
      "id": "a475e8ad",
      "metadata": {
        "id": "a475e8ad"
      },
      "outputs": [],
      "source": [
        "import pandas as pd\n",
        "import seaborn as sns\n",
        "import matplotlib.pyplot as plt\n",
        "import warnings\n",
        "warnings.filterwarnings(\"ignore\")\n"
      ]
    },
    {
      "cell_type": "code",
      "execution_count": null,
      "id": "3bd4a26b",
      "metadata": {
        "id": "3bd4a26b",
        "outputId": "0c98023f-b1ba-4a08-c431-e36bc7b78384"
      },
      "outputs": [
        {
          "data": {
            "text/html": [
              "<div>\n",
              "<style scoped>\n",
              "    .dataframe tbody tr th:only-of-type {\n",
              "        vertical-align: middle;\n",
              "    }\n",
              "\n",
              "    .dataframe tbody tr th {\n",
              "        vertical-align: top;\n",
              "    }\n",
              "\n",
              "    .dataframe thead th {\n",
              "        text-align: right;\n",
              "    }\n",
              "</style>\n",
              "<table border=\"1\" class=\"dataframe\">\n",
              "  <thead>\n",
              "    <tr style=\"text-align: right;\">\n",
              "      <th></th>\n",
              "      <th>Newspaper</th>\n",
              "      <th>daily</th>\n",
              "      <th>sunday</th>\n",
              "    </tr>\n",
              "  </thead>\n",
              "  <tbody>\n",
              "    <tr>\n",
              "      <th>0</th>\n",
              "      <td>Baltimore Sun</td>\n",
              "      <td>391.952</td>\n",
              "      <td>488.506</td>\n",
              "    </tr>\n",
              "    <tr>\n",
              "      <th>1</th>\n",
              "      <td>Boston Globe</td>\n",
              "      <td>516.981</td>\n",
              "      <td>798.298</td>\n",
              "    </tr>\n",
              "    <tr>\n",
              "      <th>2</th>\n",
              "      <td>Boston Herald</td>\n",
              "      <td>355.628</td>\n",
              "      <td>235.084</td>\n",
              "    </tr>\n",
              "    <tr>\n",
              "      <th>3</th>\n",
              "      <td>Charlotte Observer</td>\n",
              "      <td>238.555</td>\n",
              "      <td>299.451</td>\n",
              "    </tr>\n",
              "    <tr>\n",
              "      <th>4</th>\n",
              "      <td>Chicago Sun Times</td>\n",
              "      <td>537.780</td>\n",
              "      <td>559.093</td>\n",
              "    </tr>\n",
              "  </tbody>\n",
              "</table>\n",
              "</div>"
            ],
            "text/plain": [
              "            Newspaper    daily   sunday\n",
              "0       Baltimore Sun  391.952  488.506\n",
              "1        Boston Globe  516.981  798.298\n",
              "2       Boston Herald  355.628  235.084\n",
              "3  Charlotte Observer  238.555  299.451\n",
              "4   Chicago Sun Times  537.780  559.093"
            ]
          },
          "execution_count": 4,
          "metadata": {},
          "output_type": "execute_result"
        }
      ],
      "source": [
        "news_data=pd.read_csv('NewspaperData.csv')\n",
        "news_data.head(5)"
      ]
    },
    {
      "cell_type": "code",
      "execution_count": null,
      "id": "a07e2017",
      "metadata": {
        "id": "a07e2017",
        "outputId": "994f4c7a-7813-4262-87e1-96484a108169"
      },
      "outputs": [
        {
          "data": {
            "text/plain": [
              "(34, 3)"
            ]
          },
          "execution_count": 5,
          "metadata": {},
          "output_type": "execute_result"
        }
      ],
      "source": [
        "news_data.shape"
      ]
    },
    {
      "cell_type": "code",
      "execution_count": null,
      "id": "7d1c1401",
      "metadata": {
        "id": "7d1c1401",
        "outputId": "28682392-4f43-414c-eed3-85f25f456612"
      },
      "outputs": [
        {
          "data": {
            "text/html": [
              "<div>\n",
              "<style scoped>\n",
              "    .dataframe tbody tr th:only-of-type {\n",
              "        vertical-align: middle;\n",
              "    }\n",
              "\n",
              "    .dataframe tbody tr th {\n",
              "        vertical-align: top;\n",
              "    }\n",
              "\n",
              "    .dataframe thead th {\n",
              "        text-align: right;\n",
              "    }\n",
              "</style>\n",
              "<table border=\"1\" class=\"dataframe\">\n",
              "  <thead>\n",
              "    <tr style=\"text-align: right;\">\n",
              "      <th></th>\n",
              "      <th>daily</th>\n",
              "      <th>sunday</th>\n",
              "    </tr>\n",
              "  </thead>\n",
              "  <tbody>\n",
              "    <tr>\n",
              "      <th>count</th>\n",
              "      <td>34.000000</td>\n",
              "      <td>34.000000</td>\n",
              "    </tr>\n",
              "    <tr>\n",
              "      <th>mean</th>\n",
              "      <td>430.962471</td>\n",
              "      <td>591.202412</td>\n",
              "    </tr>\n",
              "    <tr>\n",
              "      <th>std</th>\n",
              "      <td>269.211470</td>\n",
              "      <td>376.418051</td>\n",
              "    </tr>\n",
              "    <tr>\n",
              "      <th>min</th>\n",
              "      <td>133.239000</td>\n",
              "      <td>202.614000</td>\n",
              "    </tr>\n",
              "    <tr>\n",
              "      <th>25%</th>\n",
              "      <td>233.021500</td>\n",
              "      <td>327.769500</td>\n",
              "    </tr>\n",
              "    <tr>\n",
              "      <th>50%</th>\n",
              "      <td>355.235500</td>\n",
              "      <td>436.712500</td>\n",
              "    </tr>\n",
              "    <tr>\n",
              "      <th>75%</th>\n",
              "      <td>516.616500</td>\n",
              "      <td>699.735250</td>\n",
              "    </tr>\n",
              "    <tr>\n",
              "      <th>max</th>\n",
              "      <td>1209.225000</td>\n",
              "      <td>1762.015000</td>\n",
              "    </tr>\n",
              "  </tbody>\n",
              "</table>\n",
              "</div>"
            ],
            "text/plain": [
              "             daily       sunday\n",
              "count    34.000000    34.000000\n",
              "mean    430.962471   591.202412\n",
              "std     269.211470   376.418051\n",
              "min     133.239000   202.614000\n",
              "25%     233.021500   327.769500\n",
              "50%     355.235500   436.712500\n",
              "75%     516.616500   699.735250\n",
              "max    1209.225000  1762.015000"
            ]
          },
          "execution_count": 6,
          "metadata": {},
          "output_type": "execute_result"
        }
      ],
      "source": [
        "news_data.describe()"
      ]
    },
    {
      "cell_type": "code",
      "execution_count": null,
      "id": "b8fcffd7",
      "metadata": {
        "id": "b8fcffd7",
        "outputId": "2e230367-6f8d-4eb0-e0f8-f617cb415ca1"
      },
      "outputs": [
        {
          "data": {
            "text/plain": [
              "Newspaper    0\n",
              "daily        0\n",
              "sunday       0\n",
              "dtype: int64"
            ]
          },
          "execution_count": 7,
          "metadata": {},
          "output_type": "execute_result"
        }
      ],
      "source": [
        "news_data.isnull().sum()"
      ]
    },
    {
      "cell_type": "code",
      "execution_count": null,
      "id": "fbe9c24a",
      "metadata": {
        "id": "fbe9c24a",
        "outputId": "552e6624-6588-44de-9f24-0b8e79dffd9f"
      },
      "outputs": [
        {
          "data": {
            "text/plain": [
              "Newspaper     object\n",
              "daily        float64\n",
              "sunday       float64\n",
              "dtype: object"
            ]
          },
          "execution_count": 8,
          "metadata": {},
          "output_type": "execute_result"
        }
      ],
      "source": [
        "news_data.dtypes"
      ]
    },
    {
      "cell_type": "markdown",
      "id": "9ef449f7",
      "metadata": {
        "id": "9ef449f7"
      },
      "source": [
        "### hypothesis\n",
        "ho:sunday sell is not related to daily sell\n",
        "\n",
        "ha: sunday sell is related to daily sell"
      ]
    },
    {
      "cell_type": "markdown",
      "id": "29e1850d",
      "metadata": {
        "id": "29e1850d"
      },
      "source": [
        "### assumption test\n",
        "linearity test"
      ]
    },
    {
      "cell_type": "code",
      "execution_count": null,
      "id": "125b7395",
      "metadata": {
        "id": "125b7395",
        "outputId": "302c38f7-2887-43eb-ed1e-a8cd9cc6db4a"
      },
      "outputs": [
        {
          "data": {
            "image/png": "[encoded data removed]",
            "text/plain": [
              "<Figure size 360x360 with 1 Axes>"
            ]
          },
          "metadata": {
            "needs_background": "light"
          },
          "output_type": "display_data"
        }
      ],
      "source": [
        "sns.lmplot(x='daily', y='sunday',data=news_data)\n",
        "plt.title(\"daily vs sunday sell\")\n",
        "plt.show()"
      ]
    },
    {
      "cell_type": "markdown",
      "id": "c88cdd23",
      "metadata": {
        "id": "c88cdd23"
      },
      "source": [
        "### normality test"
      ]
    },
    {
      "cell_type": "code",
      "execution_count": null,
      "id": "ae091425",
      "metadata": {
        "id": "ae091425",
        "outputId": "e2ef3792-a834-4973-f680-8d34d0ffb90c"
      },
      "outputs": [
        {
          "data": {
            "image/png": "[encoded data removed]",
            "text/plain": [
              "<Figure size 432x288 with 1 Axes>"
            ]
          },
          "metadata": {
            "needs_background": "light"
          },
          "output_type": "display_data"
        }
      ],
      "source": [
        "sns.distplot(a=news_data['daily'],hist=False)\n",
        "plt.title(\"daily sell\")\n",
        "plt.show()"
      ]
    },
    {
      "cell_type": "code",
      "execution_count": null,
      "id": "d22f9796",
      "metadata": {
        "id": "d22f9796",
        "outputId": "2ee4fd93-1e3e-4650-cf7e-36c783da3565"
      },
      "outputs": [
        {
          "data": {
            "text/plain": [
              "1.5321591323040094"
            ]
          },
          "execution_count": 12,
          "metadata": {},
          "output_type": "execute_result"
        }
      ],
      "source": [
        "news_data['daily'].skew()"
      ]
    },
    {
      "cell_type": "markdown",
      "id": "b8ec82c2",
      "metadata": {
        "id": "b8ec82c2"
      },
      "source": [
        "news_data[.kurtosis()"
      ]
    },
    {
      "cell_type": "markdown",
      "id": "3c06ea32",
      "metadata": {
        "id": "3c06ea32"
      },
      "source": [
        "### here near about normal bell shaped curve  we get then depending upon the value of skewness(should be<3) and kurtosis(should be<3) pass normality test"
      ]
    },
    {
      "cell_type": "markdown",
      "id": "9a813185",
      "metadata": {
        "id": "9a813185"
      },
      "source": [
        "### model building"
      ]
    },
    {
      "cell_type": "code",
      "execution_count": null,
      "id": "0a74d110",
      "metadata": {
        "id": "0a74d110",
        "outputId": "dbaaf5ad-c8b8-4c73-c949-d7142daa616b"
      },
      "outputs": [
        {
          "data": {
            "text/html": [
              "<div>\n",
              "<style scoped>\n",
              "    .dataframe tbody tr th:only-of-type {\n",
              "        vertical-align: middle;\n",
              "    }\n",
              "\n",
              "    .dataframe tbody tr th {\n",
              "        vertical-align: top;\n",
              "    }\n",
              "\n",
              "    .dataframe thead th {\n",
              "        text-align: right;\n",
              "    }\n",
              "</style>\n",
              "<table border=\"1\" class=\"dataframe\">\n",
              "  <thead>\n",
              "    <tr style=\"text-align: right;\">\n",
              "      <th></th>\n",
              "      <th>daily</th>\n",
              "      <th>sunday</th>\n",
              "    </tr>\n",
              "  </thead>\n",
              "  <tbody>\n",
              "    <tr>\n",
              "      <th>0</th>\n",
              "      <td>391.952</td>\n",
              "      <td>488.506</td>\n",
              "    </tr>\n",
              "    <tr>\n",
              "      <th>1</th>\n",
              "      <td>516.981</td>\n",
              "      <td>798.298</td>\n",
              "    </tr>\n",
              "    <tr>\n",
              "      <th>2</th>\n",
              "      <td>355.628</td>\n",
              "      <td>235.084</td>\n",
              "    </tr>\n",
              "    <tr>\n",
              "      <th>3</th>\n",
              "      <td>238.555</td>\n",
              "      <td>299.451</td>\n",
              "    </tr>\n",
              "    <tr>\n",
              "      <th>4</th>\n",
              "      <td>537.780</td>\n",
              "      <td>559.093</td>\n",
              "    </tr>\n",
              "    <tr>\n",
              "      <th>5</th>\n",
              "      <td>733.775</td>\n",
              "      <td>1133.249</td>\n",
              "    </tr>\n",
              "    <tr>\n",
              "      <th>6</th>\n",
              "      <td>198.832</td>\n",
              "      <td>348.744</td>\n",
              "    </tr>\n",
              "    <tr>\n",
              "      <th>7</th>\n",
              "      <td>252.624</td>\n",
              "      <td>417.779</td>\n",
              "    </tr>\n",
              "    <tr>\n",
              "      <th>8</th>\n",
              "      <td>206.204</td>\n",
              "      <td>344.522</td>\n",
              "    </tr>\n",
              "    <tr>\n",
              "      <th>9</th>\n",
              "      <td>231.177</td>\n",
              "      <td>323.084</td>\n",
              "    </tr>\n",
              "    <tr>\n",
              "      <th>10</th>\n",
              "      <td>449.755</td>\n",
              "      <td>620.752</td>\n",
              "    </tr>\n",
              "    <tr>\n",
              "      <th>11</th>\n",
              "      <td>288.571</td>\n",
              "      <td>423.305</td>\n",
              "    </tr>\n",
              "    <tr>\n",
              "      <th>12</th>\n",
              "      <td>185.736</td>\n",
              "      <td>202.614</td>\n",
              "    </tr>\n",
              "    <tr>\n",
              "      <th>13</th>\n",
              "      <td>1164.388</td>\n",
              "      <td>1531.527</td>\n",
              "    </tr>\n",
              "    <tr>\n",
              "      <th>14</th>\n",
              "      <td>444.581</td>\n",
              "      <td>553.479</td>\n",
              "    </tr>\n",
              "    <tr>\n",
              "      <th>15</th>\n",
              "      <td>412.871</td>\n",
              "      <td>685.975</td>\n",
              "    </tr>\n",
              "    <tr>\n",
              "      <th>16</th>\n",
              "      <td>272.280</td>\n",
              "      <td>324.241</td>\n",
              "    </tr>\n",
              "    <tr>\n",
              "      <th>17</th>\n",
              "      <td>781.796</td>\n",
              "      <td>983.240</td>\n",
              "    </tr>\n",
              "    <tr>\n",
              "      <th>18</th>\n",
              "      <td>1209.225</td>\n",
              "      <td>1762.015</td>\n",
              "    </tr>\n",
              "    <tr>\n",
              "      <th>19</th>\n",
              "      <td>825.512</td>\n",
              "      <td>960.308</td>\n",
              "    </tr>\n",
              "    <tr>\n",
              "      <th>20</th>\n",
              "      <td>223.748</td>\n",
              "      <td>284.611</td>\n",
              "    </tr>\n",
              "    <tr>\n",
              "      <th>21</th>\n",
              "      <td>354.843</td>\n",
              "      <td>407.760</td>\n",
              "    </tr>\n",
              "    <tr>\n",
              "      <th>22</th>\n",
              "      <td>515.523</td>\n",
              "      <td>982.663</td>\n",
              "    </tr>\n",
              "    <tr>\n",
              "      <th>23</th>\n",
              "      <td>220.465</td>\n",
              "      <td>557.000</td>\n",
              "    </tr>\n",
              "    <tr>\n",
              "      <th>24</th>\n",
              "      <td>337.672</td>\n",
              "      <td>440.923</td>\n",
              "    </tr>\n",
              "    <tr>\n",
              "      <th>25</th>\n",
              "      <td>197.120</td>\n",
              "      <td>268.060</td>\n",
              "    </tr>\n",
              "    <tr>\n",
              "      <th>26</th>\n",
              "      <td>133.239</td>\n",
              "      <td>262.048</td>\n",
              "    </tr>\n",
              "    <tr>\n",
              "      <th>27</th>\n",
              "      <td>374.009</td>\n",
              "      <td>432.502</td>\n",
              "    </tr>\n",
              "    <tr>\n",
              "      <th>28</th>\n",
              "      <td>273.844</td>\n",
              "      <td>338.355</td>\n",
              "    </tr>\n",
              "    <tr>\n",
              "      <th>29</th>\n",
              "      <td>570.364</td>\n",
              "      <td>704.322</td>\n",
              "    </tr>\n",
              "    <tr>\n",
              "      <th>30</th>\n",
              "      <td>391.286</td>\n",
              "      <td>585.681</td>\n",
              "    </tr>\n",
              "    <tr>\n",
              "      <th>31</th>\n",
              "      <td>201.860</td>\n",
              "      <td>267.781</td>\n",
              "    </tr>\n",
              "    <tr>\n",
              "      <th>32</th>\n",
              "      <td>321.626</td>\n",
              "      <td>408.343</td>\n",
              "    </tr>\n",
              "    <tr>\n",
              "      <th>33</th>\n",
              "      <td>838.902</td>\n",
              "      <td>1165.567</td>\n",
              "    </tr>\n",
              "  </tbody>\n",
              "</table>\n",
              "</div>"
            ],
            "text/plain": [
              "       daily    sunday\n",
              "0    391.952   488.506\n",
              "1    516.981   798.298\n",
              "2    355.628   235.084\n",
              "3    238.555   299.451\n",
              "4    537.780   559.093\n",
              "5    733.775  1133.249\n",
              "6    198.832   348.744\n",
              "7    252.624   417.779\n",
              "8    206.204   344.522\n",
              "9    231.177   323.084\n",
              "10   449.755   620.752\n",
              "11   288.571   423.305\n",
              "12   185.736   202.614\n",
              "13  1164.388  1531.527\n",
              "14   444.581   553.479\n",
              "15   412.871   685.975\n",
              "16   272.280   324.241\n",
              "17   781.796   983.240\n",
              "18  1209.225  1762.015\n",
              "19   825.512   960.308\n",
              "20   223.748   284.611\n",
              "21   354.843   407.760\n",
              "22   515.523   982.663\n",
              "23   220.465   557.000\n",
              "24   337.672   440.923\n",
              "25   197.120   268.060\n",
              "26   133.239   262.048\n",
              "27   374.009   432.502\n",
              "28   273.844   338.355\n",
              "29   570.364   704.322\n",
              "30   391.286   585.681\n",
              "31   201.860   267.781\n",
              "32   321.626   408.343\n",
              "33   838.902  1165.567"
            ]
          },
          "execution_count": 15,
          "metadata": {},
          "output_type": "execute_result"
        }
      ],
      "source": [
        "news_data1=news_data.drop(labels='Newspaper',axis=1)\n",
        "news_data1"
      ]
    },
    {
      "cell_type": "markdown",
      "id": "b6f76107",
      "metadata": {
        "id": "b6f76107"
      },
      "source": [
        "### model building"
      ]
    },
    {
      "cell_type": "code",
      "execution_count": null,
      "id": "00d13c35",
      "metadata": {
        "id": "00d13c35"
      },
      "outputs": [],
      "source": [
        "import statsmodels.formula.api as smf"
      ]
    },
    {
      "cell_type": "code",
      "execution_count": null,
      "id": "b2d415e8",
      "metadata": {
        "id": "b2d415e8"
      },
      "outputs": [],
      "source": [
        "linear_model=smf.ols(formula='sunday~daily',data=news_data1)"
      ]
    },
    {
      "cell_type": "markdown",
      "id": "ba16d26e",
      "metadata": {
        "id": "ba16d26e"
      },
      "source": [
        "### model training"
      ]
    },
    {
      "cell_type": "code",
      "execution_count": null,
      "id": "4987dcec",
      "metadata": {
        "id": "4987dcec"
      },
      "outputs": [],
      "source": [
        "linear_model=linear_model.fit()"
      ]
    },
    {
      "cell_type": "code",
      "execution_count": null,
      "id": "0be5a747",
      "metadata": {
        "id": "0be5a747",
        "outputId": "a4ac6828-e28f-4257-ebc5-cc95ae62c35c"
      },
      "outputs": [
        {
          "data": {
            "text/plain": [
              "Intercept    13.835630\n",
              "daily         1.339715\n",
              "dtype: float64"
            ]
          },
          "execution_count": 20,
          "metadata": {},
          "output_type": "execute_result"
        }
      ],
      "source": [
        "linear_model.params"
      ]
    },
    {
      "cell_type": "code",
      "execution_count": null,
      "id": "ab09a33f",
      "metadata": {
        "scrolled": true,
        "id": "ab09a33f",
        "outputId": "e088a31b-1101-4734-edef-7c6649043722"
      },
      "outputs": [
        {
          "name": "stdout",
          "output_type": "stream",
          "text": [
            "                            OLS Regression Results                            \n",
            "==============================================================================\n",
            "Dep. Variable:                 sunday   R-squared:                       0.918\n",
            "Model:                            OLS   Adj. R-squared:                  0.915\n",
            "Method:                 Least Squares   F-statistic:                     358.5\n",
            "Date:                Thu, 14 Sep 2023   Prob (F-statistic):           6.02e-19\n",
            "Time:                        21:33:26   Log-Likelihood:                -206.85\n",
            "No. Observations:                  34   AIC:                             417.7\n",
            "Df Residuals:                      32   BIC:                             420.8\n",
            "Df Model:                           1                                         \n",
            "Covariance Type:            nonrobust                                         \n",
            "==============================================================================\n",
            "                 coef    std err          t      P>|t|      [0.025      0.975]\n",
            "------------------------------------------------------------------------------\n",
            "Intercept     13.8356     35.804      0.386      0.702     -59.095      86.766\n",
            "daily          1.3397      0.071     18.935      0.000       1.196       1.484\n",
            "==============================================================================\n",
            "Omnibus:                        3.297   Durbin-Watson:                   2.059\n",
            "Prob(Omnibus):                  0.192   Jarque-Bera (JB):                1.990\n",
            "Skew:                           0.396   Prob(JB):                        0.370\n",
            "Kurtosis:                       3.882   Cond. No.                         965.\n",
            "==============================================================================\n",
            "\n",
            "Notes:\n",
            "[1] Standard Errors assume that the covariance matrix of the errors is correctly specified.\n"
          ]
        }
      ],
      "source": [
        "print(linear_model.summary())"
      ]
    },
    {
      "cell_type": "markdown",
      "id": "eae18643",
      "metadata": {
        "id": "eae18643"
      },
      "source": [
        "### model testing"
      ]
    },
    {
      "cell_type": "code",
      "execution_count": null,
      "id": "9255599c",
      "metadata": {
        "id": "9255599c",
        "outputId": "3efe2b87-322c-4ae4-ffc0-a449141137a0"
      },
      "outputs": [
        {
          "data": {
            "text/html": [
              "<div>\n",
              "<style scoped>\n",
              "    .dataframe tbody tr th:only-of-type {\n",
              "        vertical-align: middle;\n",
              "    }\n",
              "\n",
              "    .dataframe tbody tr th {\n",
              "        vertical-align: top;\n",
              "    }\n",
              "\n",
              "    .dataframe thead th {\n",
              "        text-align: right;\n",
              "    }\n",
              "</style>\n",
              "<table border=\"1\" class=\"dataframe\">\n",
              "  <thead>\n",
              "    <tr style=\"text-align: right;\">\n",
              "      <th></th>\n",
              "      <th>daily</th>\n",
              "    </tr>\n",
              "  </thead>\n",
              "  <tbody>\n",
              "    <tr>\n",
              "      <th>0</th>\n",
              "      <td>300</td>\n",
              "    </tr>\n",
              "    <tr>\n",
              "      <th>1</th>\n",
              "      <td>250</td>\n",
              "    </tr>\n",
              "    <tr>\n",
              "      <th>2</th>\n",
              "      <td>585</td>\n",
              "    </tr>\n",
              "  </tbody>\n",
              "</table>\n",
              "</div>"
            ],
            "text/plain": [
              "   daily\n",
              "0    300\n",
              "1    250\n",
              "2    585"
            ]
          },
          "execution_count": 24,
          "metadata": {},
          "output_type": "execute_result"
        }
      ],
      "source": [
        "x_test=pd.DataFrame( data={'daily':[300,250,585]})\n",
        "x_test"
      ]
    },
    {
      "cell_type": "markdown",
      "id": "5fe85c3f",
      "metadata": {
        "id": "5fe85c3f"
      },
      "source": [
        "### manual testing"
      ]
    },
    {
      "cell_type": "code",
      "execution_count": null,
      "id": "61ad2216",
      "metadata": {
        "id": "61ad2216",
        "outputId": "9bf4a25d-150d-4c17-cb51-689d8fe00b21"
      },
      "outputs": [
        {
          "name": "stdout",
          "output_type": "stream",
          "text": [
            "797.5600999999999\n"
          ]
        }
      ],
      "source": [
        "# for x=300\n",
        "#y=13.8356+(1.3397*300)->415.74\n",
        "#y=13.8356+(1.3397*250)->348.76\n",
        "#y=13.8356+(1.3397*585)->797.56\n",
        "print(y)"
      ]
    },
    {
      "cell_type": "markdown",
      "id": "3897ef0f",
      "metadata": {
        "id": "3897ef0f"
      },
      "source": [
        "### automatic calculation"
      ]
    },
    {
      "cell_type": "code",
      "execution_count": null,
      "id": "c77d87e3",
      "metadata": {
        "id": "c77d87e3",
        "outputId": "109d1f2c-4eee-459d-aa09-129c24376e40"
      },
      "outputs": [
        {
          "data": {
            "text/plain": [
              "0    415.750057\n",
              "1    348.764319\n",
              "2    797.568763\n",
              "dtype: float64"
            ]
          },
          "execution_count": 30,
          "metadata": {},
          "output_type": "execute_result"
        }
      ],
      "source": [
        "linear_model.predict(x_test)"
      ]
    },
    {
      "cell_type": "code",
      "execution_count": null,
      "id": "a7f42781",
      "metadata": {
        "id": "a7f42781"
      },
      "outputs": [],
      "source": [
        "from pickle import dump\n",
        "dump(linear_model,open('linear_intelligence.pkl','wb'))"
      ]
    },
    {
      "cell_type": "code",
      "execution_count": null,
      "id": "205b29c8",
      "metadata": {
        "id": "205b29c8"
      },
      "outputs": [],
      "source": [
        "from pickle import load\n",
        "loaded_lin_model = load(open('linear_intelligence.pkl','rb'))"
      ]
    },
    {
      "cell_type": "code",
      "execution_count": null,
      "id": "e1b2ad05",
      "metadata": {
        "id": "e1b2ad05",
        "outputId": "0c2887bf-a4fc-4560-e10e-40c344378e03"
      },
      "outputs": [
        {
          "data": {
            "text/plain": [
              "0    415.750057\n",
              "1    348.764319\n",
              "2    797.568763\n",
              "dtype: float64"
            ]
          },
          "execution_count": 41,
          "metadata": {},
          "output_type": "execute_result"
        }
      ],
      "source": [
        "loaded_lin_model.predict(x_test)"
      ]
    },
    {
      "cell_type": "code",
      "execution_count": null,
      "id": "323b9e9a",
      "metadata": {
        "id": "323b9e9a"
      },
      "outputs": [],
      "source": []
    }
  ],
  "metadata": {
    "kernelspec": {
      "display_name": "Python 3",
      "language": "python",
      "name": "python3"
    },
    "language_info": {
      "codemirror_mode": {
        "name": "ipython",
        "version": 3
      },
      "file_extension": ".py",
      "mimetype": "text/x-python",
      "name": "python",
      "nbconvert_exporter": "python",
      "pygments_lexer": "ipython3",
      "version": "3.8.8"
    },
    "colab": {
      "provenance": [],
      "include_colab_link": true
    }
  },
  "nbformat": 4,
  "nbformat_minor": 5
}